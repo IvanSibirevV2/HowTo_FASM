{
 "cells": [
  {
   "cell_type": "markdown",
   "metadata": {},
   "source": [
    "# Список литературы."
   ]
  },
  {
   "cell_type": "markdown",
   "metadata": {},
   "source": [
    "### Электронныйе рессурсы к практической работе «Знакомство с  Git/GitHub»\n",
    "- <a href=\"https://www.cyberforum.ru/fasm/thread1240599.html\">flat assembler 1.71\n",
    "Мануал программера</a> $[Электронный ресурс]$:CyberForum.ru /<br/> (10.08.2014-05.04.2021) URL.https://www.cyberforum.ru/fasm/thread1240599.html\n",
    "- <a href=\"https://learngitbranching.js.org/?locale=ru_RU\">Learn Git Branching</a> $[Электронный ресурс]$:learngitbranching.js.org /<br/> (05.04.2021) URL.https://learngitbranching.js.org/?locale=ru_RU\n",
    "- <a href=\"https://techrocks.ru/2019/02/19/git-origin-story/\">История происхождения Git</a> $[Электронный ресурс]$:techrocks.ru /<br/> (05.04.2021) URL.https://techrocks.ru/2019/02/19/git-origin-story/\n",
    "- <a href=\"https://git-scm.com/download/win\">Официальный сайт Git</a> $[Электронный ресурс]$:git-scm.com /<br/> (05.04.2021)URL.https://git-scm.com/download/win\n",
    "- <a href=\"https://git-scm.com/doc\">Официальная документация Git</a> $[Электронный ресурс]$:git-scm.com /<br/> (05.04.2021)URL.https://git-scm.com/doc\n",
    "- <a href=\"https://github.com/gitextensions/gitextensions/releases/tag/v3.4.1\">GitHub репозиторий GitExtensions</a> $[Электронный ресурс]$:github.com /<br/> (05.04.2021)URL.https://github.com/gitextensions/gitextensions/releases/tag/v3.4.1\n",
    "- <a href=\"https://www.gitkraken.com/\">GitKraken</a> $[Электронный ресурс]$:www.gitkraken.com /<br/> (05.04.2021)URL.https://www.gitkraken.com/\n",
    "- <a href=\"https://www.syntevo.com/smartgit/\">SmartGit</a> $[Электронный ресурс]$:www.syntevo.com/<br/> (05.04.2021)URL.https://www.syntevo.com/smartgit/\n",
    "- <a href=\"https://tortoisegit.org/\">TortoiseGit</a> $[Электронный ресурс]$:tortoisegit.org<br/> (05.04.2021)URL.https://tortoisegit.org/\n",
    "- <a href=\"https://docs.microsoft.com/ru-ru/visualstudio/ide/reference/team-explorer-reference?view=vs-2019\">ТeamExplorer</a> $[Электронный ресурс]$:docs.microsoft.com<br/> (05.04.2021)URL.https://docs.microsoft.com/ru-ru/visualstudio/ide/reference/team-explorer-reference?view=vs-2019"
   ]
  },
  {
   "cell_type": "markdown",
   "metadata": {},
   "source": [
    "### Список литературы  и электронныйе рессурсы к проблемной лекции \"Введение. Эзотерические языки программирования на примере BF.\"\n",
    "- <a href=\"https://habr.com/ru/company/edison/blog/313334/\">Примеры кода на 39 эзотерических языках программирования</a> $[Электронный ресурс]$:habr.com<br/> (05.04.2021)URL.https://habr.com/ru/company/edison/blog/313334/\n",
    "- <a href=\"http://4mhz.de/bfdev.html\">BrainF Developer</a> $[Электронный ресурс]$:bfdev.html<br/> (05.04.2021)URL.http://4mhz.de/bfdev.html\n",
    "- <a href=\"https://habr.com/ru/post/105028/\">Интерпретатор Brainfuck размером 160 байт</a> $[Электронный ресурс]$:habr.com<br/> (05.04.2021)URL.https://habr.com/ru/post/105028/\n",
    "- <a href=\"https://jupyter.org/try\">Try Jupyter</a> $[Электронный ресурс]$:habr.com<br/> (05.04.2021)URL.https://jupyter.org/try\n",
    "\n",
    "- <a href=\"https://jupyter.org/try\">Try Jupyter</a> $[Электронный ресурс]$:habr.com<br/> (05.04.2021)URL.https://jupyter.org/try\n",
    "\n"
   ]
  },
  {
   "cell_type": "markdown",
   "metadata": {},
   "source": [
    "### Список литературы и электронныйе рессурсы к проблемной лекции \"ЛамПанель, или школьный ассемблер.\"\n",
    "- <a href=\"https://habr.com/ru/post/345748/\">Как писать на ассемблере в 2018 году</a> $[Электронный ресурс]$:tortoisegit.org<br/> (05.04.2021)URL.https://habr.com/ru/post/345748/\n",
    "- <a href=\"https://fasmworld.ru/uchebnik/\">FasmWorld. Учебник. FasmDosBox</a> $[Электронный ресурс]$:tortoisegit.org<br/> (05.04.2021)URL.https://fasmworld.ru/uchebnik/\n",
    "- <a href=\"https://www.cyberforum.ru/fasm/thread1240599.html\">flat assembler 1.71\n",
    "Мануал программера</a> $[Электронный ресурс]$:CyberForum.ru /<br/> (10.08.2014-05.04.2021) URL.https://www.cyberforum.ru/fasm/thread1240599.html\n",
    "- <a href=\"https://www.cyberforum.ru/fasm/thread1253291.html\">Руководство по препроцессору FASM</a> $[Электронный ресурс]$:CyberForum.ru /<br/> (10.08.2014-05.04.2021) URL.https://www.cyberforum.ru/fasm/thread1253291.html\n",
    "- <a href=\"https://kpolyakov.spb.ru/prog/lamp.htm\">ЛамПанель</a> $[Электронный ресурс]$:kpolyakov.spb.ru / Поляков Константин Юрьевич<br/> (10.08.2014-05.04.2021) URL.https://kpolyakov.spb.ru/prog/lamp.htm"
   ]
  },
  {
   "cell_type": "markdown",
   "metadata": {},
   "source": [
    "### Список литературы и электронныйе рессурсы к проблемной лекции \"С++, ASM вставки, команды пересылки данных, дизассемблер, арифметические операции\"\n",
    "- Архитектура ЭВМ. Задания и примеры выполнения лабораторных работ : методические указания для студентов специальности 23020165 / сост. : А. Е. Докторов, Е. А. Докторова. – Ульяновск : УлГТУ, 2008. – 32 с\n",
    "- <a href=\"https://flatassembler.net/\"> Flat assemdler 1.73 Programmer's Manual.</a> $[Электронный ресурс]$:flatassembler.net / Tomasz Grysztar.<br/> (10.08.2014-05.04.2021) URL.https://flatassembler.net/"
   ]
  },
  {
   "cell_type": "markdown",
   "metadata": {},
   "source": [
    "### Список литературы и электронныйе рессурсы к проблемной лекции \"FASM/DosBox. Изучение строк, ветвлений, циклов\"\n",
    "\n",
    "- <a href=\"https://notepad-plus-plus.org/\">What is Notepad++.</a> $[Электронный ресурс]$:notepad-plus-plus.org / <br/> (10.08.2014-05.04.2021) URL.https://notepad-plus-plus.org/\n",
    "- <a href=\"https://www.dosbox.com/\">DOSBox</a> $[Электронный ресурс]$:www.dosbox.com / <br/> (10.08.2014-05.04.2021) URL.https://www.dosbox.com/\n",
    "- <a href=\"https://flatassembler.net/\">flat assembler</a> $[Электронный ресурс]$:flatassembler.net / <br/> (10.08.2014-05.04.2021) URL.https://flatassembler.net/\n",
    "- <a href=\"https://fasmworld.ru/uchebnik/\">FasmWorld. Учебник. FasmDosBox</a> $[Электронный ресурс]$:tortoisegit.org<br/> (05.04.2021)URL.https://fasmworld.ru/uchebnik/\n",
    "- <a href=\"https://www.cyberforum.ru/fasm/thread1240599.html\">flat assembler 1.71\n",
    "Мануал программера</a> $[Электронный ресурс]$:CyberForum.ru /<br/> (10.08.2014-05.04.2021) URL.https://www.cyberforum.ru/fasm/thread1240599.html\n",
    "- <a href=\"https://www.cyberforum.ru/fasm/thread1253291.html\">Руководство по препроцессору FASM</a> $[Электронный ресурс]$:CyberForum.ru /<br/> (10.08.2014-05.04.2021) URL.https://www.cyberforum.ru/fasm/thread1253291.html\n"
   ]
  },
  {
   "cell_type": "code",
   "execution_count": null,
   "metadata": {},
   "outputs": [],
   "source": []
  }
 ],
 "metadata": {
  "kernelspec": {
   "display_name": "Julia 1.5.3",
   "language": "julia",
   "name": "julia-1.5"
  },
  "language_info": {
   "file_extension": ".jl",
   "mimetype": "application/julia",
   "name": "julia",
   "version": "1.5.3"
  }
 },
 "nbformat": 4,
 "nbformat_minor": 4
}
